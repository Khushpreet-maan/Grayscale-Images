{
  "nbformat": 4,
  "nbformat_minor": 0,
  "metadata": {
    "colab": {
      "provenance": [],
      "authorship_tag": "ABX9TyM0ivPp1oGrCn7wWncCIWS1",
      "include_colab_link": true
    },
    "kernelspec": {
      "name": "python3",
      "display_name": "Python 3"
    },
    "language_info": {
      "name": "python"
    }
  },
  "cells": [
    {
      "cell_type": "markdown",
      "metadata": {
        "id": "view-in-github",
        "colab_type": "text"
      },
      "source": [
        "<a href=\"https://colab.research.google.com/github/Khushpreet-maan/Open-CV/blob/main/Colored_Video_to_Grey_Scale.ipynb\" target=\"_parent\"><img src=\"https://colab.research.google.com/assets/colab-badge.svg\" alt=\"Open In Colab\"/></a>"
      ]
    },
    {
      "cell_type": "code",
      "execution_count": 1,
      "metadata": {
        "colab": {
          "base_uri": "https://localhost:8080/"
        },
        "id": "bF1jdBDspEt_",
        "outputId": "4d436224-6a7f-4e72-a868-22cedbc38971"
      },
      "outputs": [
        {
          "output_type": "stream",
          "name": "stdout",
          "text": [
            "Requirement already satisfied: opencv-python in /usr/local/lib/python3.11/dist-packages (4.11.0.86)\n",
            "Requirement already satisfied: requests in /usr/local/lib/python3.11/dist-packages (2.32.3)\n",
            "Requirement already satisfied: numpy>=1.21.2 in /usr/local/lib/python3.11/dist-packages (from opencv-python) (2.0.2)\n",
            "Requirement already satisfied: charset-normalizer<4,>=2 in /usr/local/lib/python3.11/dist-packages (from requests) (3.4.2)\n",
            "Requirement already satisfied: idna<4,>=2.5 in /usr/local/lib/python3.11/dist-packages (from requests) (3.10)\n",
            "Requirement already satisfied: urllib3<3,>=1.21.1 in /usr/local/lib/python3.11/dist-packages (from requests) (2.4.0)\n",
            "Requirement already satisfied: certifi>=2017.4.17 in /usr/local/lib/python3.11/dist-packages (from requests) (2025.6.15)\n"
          ]
        }
      ],
      "source": [
        "pip install opencv-python requests\n"
      ]
    },
    {
      "cell_type": "code",
      "source": [
        "import cv2\n",
        "import os\n",
        "import requests"
      ],
      "metadata": {
        "id": "kGmHZN8ip4Hk"
      },
      "execution_count": 2,
      "outputs": []
    },
    {
      "cell_type": "code",
      "source": [
        "# Step 1: Download sample colored video\n",
        "video_url = \"https://file-examples.com/storage/fe1e65e8d6b5281183e7c13/2017/04/file_example_MP4_480_1_5MG.mp4\"\n",
        "video_path = \"input_video.mp4\"\n",
        "\n",
        "if not os.path.exists(video_path):\n",
        "    print(\"Downloading sample video...\")\n",
        "    response = requests.get(video_url)\n",
        "    with open(video_path, 'wb') as f:\n",
        "        f.write(response.content)\n",
        "    print(\"✅ Video downloaded.\")"
      ],
      "metadata": {
        "colab": {
          "base_uri": "https://localhost:8080/"
        },
        "id": "RGE_gO2_p_cK",
        "outputId": "7740c773-9a47-4ec3-8c8f-01902defbe7f"
      },
      "execution_count": 3,
      "outputs": [
        {
          "output_type": "stream",
          "name": "stdout",
          "text": [
            "Downloading sample video...\n",
            "✅ Video downloaded.\n"
          ]
        }
      ]
    },
    {
      "cell_type": "code",
      "source": [
        "\n",
        "# Step 2: Open input video\n",
        "cap = cv2.VideoCapture(video_path)"
      ],
      "metadata": {
        "id": "PsORpqVGqMlp"
      },
      "execution_count": 4,
      "outputs": []
    },
    {
      "cell_type": "code",
      "source": [
        "# Step 3: Get video properties\n",
        "frame_width = int(cap.get(cv2.CAP_PROP_FRAME_WIDTH))\n",
        "frame_height = int(cap.get(cv2.CAP_PROP_FRAME_HEIGHT))\n",
        "fps = cap.get(cv2.CAP_PROP_FPS)"
      ],
      "metadata": {
        "id": "MTnFARzVqOeL"
      },
      "execution_count": 5,
      "outputs": []
    },
    {
      "cell_type": "code",
      "source": [
        "\n",
        "# Step 4: Define output video writer (grayscale)\n",
        "output_path = \"output_grayscale_video.avi\"\n",
        "fourcc = cv2.VideoWriter_fourcc(*'XVID')\n",
        "out = cv2.VideoWriter(output_path, fourcc, fps, (frame_width, frame_height), isColor=False)"
      ],
      "metadata": {
        "id": "S579qKFEqV66"
      },
      "execution_count": 6,
      "outputs": []
    },
    {
      "cell_type": "code",
      "source": [
        "# Step 5: Convert frames to grayscale\n",
        "print(\"Processing video...\")\n",
        "while True:\n",
        "    ret, frame = cap.read()\n",
        "    if not ret:\n",
        "        break\n",
        "    gray_frame = cv2.cvtColor(frame, cv2.COLOR_BGR2GRAY)\n",
        "    out.write(gray_frame)\n",
        "\n",
        "cap.release()\n",
        "out.release()\n",
        "print(f\"✅ Done! Grayscale video saved as: {output_path}\")"
      ],
      "metadata": {
        "colab": {
          "base_uri": "https://localhost:8080/"
        },
        "id": "d01s5ohsqbfk",
        "outputId": "f23a0f2b-b63a-4aad-9bd2-70806c833aa7"
      },
      "execution_count": 7,
      "outputs": [
        {
          "output_type": "stream",
          "name": "stdout",
          "text": [
            "Processing video...\n",
            "✅ Done! Grayscale video saved as: output_grayscale_video.avi\n"
          ]
        }
      ]
    }
  ]
}