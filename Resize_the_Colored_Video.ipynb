{
  "nbformat": 4,
  "nbformat_minor": 0,
  "metadata": {
    "colab": {
      "provenance": [],
      "authorship_tag": "ABX9TyM1es9W+6aWgxG4LIqKVK0S",
      "include_colab_link": true
    },
    "kernelspec": {
      "name": "python3",
      "display_name": "Python 3"
    },
    "language_info": {
      "name": "python"
    }
  },
  "cells": [
    {
      "cell_type": "markdown",
      "metadata": {
        "id": "view-in-github",
        "colab_type": "text"
      },
      "source": [
        "<a href=\"https://colab.research.google.com/github/Khushpreet-maan/Open-CV/blob/main/Resize_the_Colored_Video.ipynb\" target=\"_parent\"><img src=\"https://colab.research.google.com/assets/colab-badge.svg\" alt=\"Open In Colab\"/></a>"
      ]
    },
    {
      "cell_type": "code",
      "source": [
        "import cv2\n",
        "\n",
        "# Path to your input video\n",
        "input_video = \"Video.mhtml\"\n",
        "output_video = \"resized_video.avi\"\n",
        "\n",
        "# Open the video\n",
        "cap = cv2.VideoCapture(input_video)\n",
        "\n",
        "if not cap.isOpened():\n",
        "    print(\"❌ Error: Could not open video.\")\n",
        "    exit()\n",
        "\n",
        "# Get original video properties\n",
        "width = int(cap.get(cv2.CAP_PROP_FRAME_WIDTH))\n",
        "height = int(cap.get(cv2.CAP_PROP_FRAME_HEIGHT))\n",
        "fps = cap.get(cv2.CAP_PROP_FPS)\n",
        "frame_count = int(cap.get(cv2.CAP_PROP_FRAME_COUNT))\n",
        "\n",
        "# Calculate new dimensions (50%)\n",
        "resized_width = width // 2\n",
        "resized_height = height // 2\n",
        "\n",
        "# Define the codec and output file\n",
        "fourcc = cv2.VideoWriter_fourcc(*'XVID')\n",
        "out = cv2.VideoWriter(output_video, fourcc, fps, (resized_width, resized_height))\n",
        "\n",
        "print(\"🎞 Resizing video...\")\n",
        "frame_num = 0\n",
        "while True:\n",
        "    ret, frame = cap.read()\n",
        "    if not ret:\n",
        "        break\n",
        "    resized_frame = cv2.resize(frame, (resized_width, resized_height))\n",
        "    out.write(resized_frame)\n",
        "    frame_num += 1\n",
        "\n",
        "cap.release()\n",
        "out.release()\n",
        "print(f\"✅ Done! {frame_num} frames saved to: {output_video}\")\n"
      ],
      "metadata": {
        "colab": {
          "base_uri": "https://localhost:8080/"
        },
        "id": "zRKRQIDTyhW8",
        "outputId": "1a17dd8c-c188-4f82-d285-0595264b579a"
      },
      "execution_count": 1,
      "outputs": [
        {
          "output_type": "stream",
          "name": "stdout",
          "text": [
            "❌ Error: Could not open video.\n",
            "🎞 Resizing video...\n",
            "✅ Done! 0 frames saved to: resized_video.avi\n"
          ]
        }
      ]
    }
  ]
}